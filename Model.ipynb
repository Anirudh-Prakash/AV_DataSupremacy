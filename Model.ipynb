{
 "cells": [
  {
   "cell_type": "code",
   "execution_count": 1,
   "metadata": {},
   "outputs": [],
   "source": [
    "import pandas as pd\n",
    "import matplotlib.pyplot as plt\n",
    "import seaborn as sns\n",
    "import catboost\n",
    "import numpy as np\n",
    "import xgboost as xgb\n",
    "\n",
    "from sklearn.model_selection import train_test_split, cross_val_score\n",
    "import lightgbm as lgb"
   ]
  },
  {
   "cell_type": "code",
   "execution_count": 2,
   "metadata": {},
   "outputs": [],
   "source": [
    "train=pd.read_csv('train.csv')\n",
    "train_index=train.index\n",
    "test=pd.read_csv('test.csv')\n",
    "test['target']=0\n",
    "dataset=train.append(test)"
   ]
  },
  {
   "cell_type": "code",
   "execution_count": 3,
   "metadata": {},
   "outputs": [
    {
     "name": "stdout",
     "output_type": "stream",
     "text": [
      "<class 'pandas.core.frame.DataFrame'>\n",
      "Int64Index: 33380 entries, 0 to 15020\n",
      "Data columns (total 14 columns):\n",
      "enrollee_id               33380 non-null int64\n",
      "city                      33380 non-null object\n",
      "city_development_index    33380 non-null float64\n",
      "gender                    25894 non-null object\n",
      "relevent_experience       33380 non-null object\n",
      "enrolled_university       32759 non-null object\n",
      "education_level           32528 non-null object\n",
      "major_discipline          28149 non-null object\n",
      "experience                33277 non-null object\n",
      "company_size              24550 non-null object\n",
      "company_type              24011 non-null object\n",
      "last_new_job              32709 non-null object\n",
      "training_hours            33380 non-null int64\n",
      "target                    33380 non-null int64\n",
      "dtypes: float64(1), int64(3), object(10)\n",
      "memory usage: 3.8+ MB\n"
     ]
    }
   ],
   "source": [
    "dataset.info()"
   ]
  },
  {
   "cell_type": "code",
   "execution_count": 4,
   "metadata": {},
   "outputs": [
    {
     "data": {
      "text/html": [
       "<div>\n",
       "<style scoped>\n",
       "    .dataframe tbody tr th:only-of-type {\n",
       "        vertical-align: middle;\n",
       "    }\n",
       "\n",
       "    .dataframe tbody tr th {\n",
       "        vertical-align: top;\n",
       "    }\n",
       "\n",
       "    .dataframe thead th {\n",
       "        text-align: right;\n",
       "    }\n",
       "</style>\n",
       "<table border=\"1\" class=\"dataframe\">\n",
       "  <thead>\n",
       "    <tr style=\"text-align: right;\">\n",
       "      <th></th>\n",
       "      <th>enrollee_id</th>\n",
       "      <th>city_development_index</th>\n",
       "      <th>training_hours</th>\n",
       "      <th>target</th>\n",
       "    </tr>\n",
       "  </thead>\n",
       "  <tbody>\n",
       "    <tr>\n",
       "      <th>count</th>\n",
       "      <td>33380.000000</td>\n",
       "      <td>33380.000000</td>\n",
       "      <td>33380.000000</td>\n",
       "      <td>33380.000000</td>\n",
       "    </tr>\n",
       "    <tr>\n",
       "      <th>mean</th>\n",
       "      <td>16690.500000</td>\n",
       "      <td>0.846934</td>\n",
       "      <td>65.565638</td>\n",
       "      <td>0.072648</td>\n",
       "    </tr>\n",
       "    <tr>\n",
       "      <th>std</th>\n",
       "      <td>9636.120329</td>\n",
       "      <td>0.109972</td>\n",
       "      <td>60.363572</td>\n",
       "      <td>0.259562</td>\n",
       "    </tr>\n",
       "    <tr>\n",
       "      <th>min</th>\n",
       "      <td>1.000000</td>\n",
       "      <td>0.448000</td>\n",
       "      <td>1.000000</td>\n",
       "      <td>0.000000</td>\n",
       "    </tr>\n",
       "    <tr>\n",
       "      <th>25%</th>\n",
       "      <td>8345.750000</td>\n",
       "      <td>0.794000</td>\n",
       "      <td>23.000000</td>\n",
       "      <td>0.000000</td>\n",
       "    </tr>\n",
       "    <tr>\n",
       "      <th>50%</th>\n",
       "      <td>16690.500000</td>\n",
       "      <td>0.910000</td>\n",
       "      <td>47.000000</td>\n",
       "      <td>0.000000</td>\n",
       "    </tr>\n",
       "    <tr>\n",
       "      <th>75%</th>\n",
       "      <td>25035.250000</td>\n",
       "      <td>0.920000</td>\n",
       "      <td>89.000000</td>\n",
       "      <td>0.000000</td>\n",
       "    </tr>\n",
       "    <tr>\n",
       "      <th>max</th>\n",
       "      <td>33380.000000</td>\n",
       "      <td>0.949000</td>\n",
       "      <td>336.000000</td>\n",
       "      <td>1.000000</td>\n",
       "    </tr>\n",
       "  </tbody>\n",
       "</table>\n",
       "</div>"
      ],
      "text/plain": [
       "        enrollee_id  city_development_index  training_hours        target\n",
       "count  33380.000000            33380.000000    33380.000000  33380.000000\n",
       "mean   16690.500000                0.846934       65.565638      0.072648\n",
       "std     9636.120329                0.109972       60.363572      0.259562\n",
       "min        1.000000                0.448000        1.000000      0.000000\n",
       "25%     8345.750000                0.794000       23.000000      0.000000\n",
       "50%    16690.500000                0.910000       47.000000      0.000000\n",
       "75%    25035.250000                0.920000       89.000000      0.000000\n",
       "max    33380.000000                0.949000      336.000000      1.000000"
      ]
     },
     "execution_count": 4,
     "metadata": {},
     "output_type": "execute_result"
    }
   ],
   "source": [
    "dataset.describe()"
   ]
  },
  {
   "cell_type": "code",
   "execution_count": 5,
   "metadata": {},
   "outputs": [
    {
     "data": {
      "text/plain": [
       "enrollee_id                  0\n",
       "city                         0\n",
       "city_development_index       0\n",
       "gender                    7486\n",
       "relevent_experience          0\n",
       "enrolled_university        621\n",
       "education_level            852\n",
       "major_discipline          5231\n",
       "experience                 103\n",
       "company_size              8830\n",
       "company_type              9369\n",
       "last_new_job               671\n",
       "training_hours               0\n",
       "target                       0\n",
       "dtype: int64"
      ]
     },
     "execution_count": 5,
     "metadata": {},
     "output_type": "execute_result"
    }
   ],
   "source": [
    "dataset.isnull().sum()"
   ]
  },
  {
   "cell_type": "code",
   "execution_count": 6,
   "metadata": {},
   "outputs": [
    {
     "data": {
      "text/plain": [
       "target\n",
       "0    0.867912\n",
       "1    0.132088\n",
       "Name: target, dtype: float64"
      ]
     },
     "execution_count": 6,
     "metadata": {},
     "output_type": "execute_result"
    }
   ],
   "source": [
    "train.groupby('target')['target'].count() / train.shape[0]"
   ]
  },
  {
   "cell_type": "code",
   "execution_count": 7,
   "metadata": {},
   "outputs": [],
   "source": [
    "dataset['city']=dataset['city'].apply(lambda x: x.replace('city_', ''))\n",
    "dataset['city']=dataset['city'].astype(int)"
   ]
  },
  {
   "cell_type": "code",
   "execution_count": 8,
   "metadata": {},
   "outputs": [
    {
     "data": {
      "text/plain": [
       "33380"
      ]
     },
     "execution_count": 8,
     "metadata": {},
     "output_type": "execute_result"
    }
   ],
   "source": [
    "dataset['enrollee_id'].nunique()"
   ]
  },
  {
   "cell_type": "code",
   "execution_count": 9,
   "metadata": {},
   "outputs": [
    {
     "data": {
      "text/html": [
       "<div>\n",
       "<style scoped>\n",
       "    .dataframe tbody tr th:only-of-type {\n",
       "        vertical-align: middle;\n",
       "    }\n",
       "\n",
       "    .dataframe tbody tr th {\n",
       "        vertical-align: top;\n",
       "    }\n",
       "\n",
       "    .dataframe thead th {\n",
       "        text-align: right;\n",
       "    }\n",
       "</style>\n",
       "<table border=\"1\" class=\"dataframe\">\n",
       "  <thead>\n",
       "    <tr style=\"text-align: right;\">\n",
       "      <th></th>\n",
       "      <th>enrollee_id</th>\n",
       "      <th>city</th>\n",
       "      <th>city_development_index</th>\n",
       "      <th>gender</th>\n",
       "      <th>relevent_experience</th>\n",
       "      <th>enrolled_university</th>\n",
       "      <th>education_level</th>\n",
       "      <th>major_discipline</th>\n",
       "      <th>experience</th>\n",
       "      <th>company_size</th>\n",
       "      <th>company_type</th>\n",
       "      <th>last_new_job</th>\n",
       "      <th>training_hours</th>\n",
       "      <th>target</th>\n",
       "    </tr>\n",
       "  </thead>\n",
       "  <tbody>\n",
       "    <tr>\n",
       "      <th>0</th>\n",
       "      <td>23798</td>\n",
       "      <td>149</td>\n",
       "      <td>0.689</td>\n",
       "      <td>Male</td>\n",
       "      <td>Has relevent experience</td>\n",
       "      <td>no_enrollment</td>\n",
       "      <td>Graduate</td>\n",
       "      <td>STEM</td>\n",
       "      <td>3</td>\n",
       "      <td>100-500</td>\n",
       "      <td>Pvt Ltd</td>\n",
       "      <td>1</td>\n",
       "      <td>106</td>\n",
       "      <td>0</td>\n",
       "    </tr>\n",
       "    <tr>\n",
       "      <th>1</th>\n",
       "      <td>29166</td>\n",
       "      <td>83</td>\n",
       "      <td>0.923</td>\n",
       "      <td>Male</td>\n",
       "      <td>Has relevent experience</td>\n",
       "      <td>no_enrollment</td>\n",
       "      <td>Graduate</td>\n",
       "      <td>STEM</td>\n",
       "      <td>14</td>\n",
       "      <td>&lt;10</td>\n",
       "      <td>Funded Startup</td>\n",
       "      <td>1</td>\n",
       "      <td>69</td>\n",
       "      <td>0</td>\n",
       "    </tr>\n",
       "    <tr>\n",
       "      <th>2</th>\n",
       "      <td>46</td>\n",
       "      <td>16</td>\n",
       "      <td>0.910</td>\n",
       "      <td>NaN</td>\n",
       "      <td>Has relevent experience</td>\n",
       "      <td>no_enrollment</td>\n",
       "      <td>Graduate</td>\n",
       "      <td>STEM</td>\n",
       "      <td>6</td>\n",
       "      <td>50-99</td>\n",
       "      <td>Public Sector</td>\n",
       "      <td>2</td>\n",
       "      <td>4</td>\n",
       "      <td>0</td>\n",
       "    </tr>\n",
       "    <tr>\n",
       "      <th>3</th>\n",
       "      <td>18527</td>\n",
       "      <td>64</td>\n",
       "      <td>0.666</td>\n",
       "      <td>Male</td>\n",
       "      <td>Has relevent experience</td>\n",
       "      <td>no_enrollment</td>\n",
       "      <td>Graduate</td>\n",
       "      <td>STEM</td>\n",
       "      <td>14</td>\n",
       "      <td>50-99</td>\n",
       "      <td>Pvt Ltd</td>\n",
       "      <td>1</td>\n",
       "      <td>26</td>\n",
       "      <td>0</td>\n",
       "    </tr>\n",
       "    <tr>\n",
       "      <th>4</th>\n",
       "      <td>21751</td>\n",
       "      <td>100</td>\n",
       "      <td>0.887</td>\n",
       "      <td>NaN</td>\n",
       "      <td>No relevent experience</td>\n",
       "      <td>no_enrollment</td>\n",
       "      <td>Masters</td>\n",
       "      <td>STEM</td>\n",
       "      <td>8</td>\n",
       "      <td>NaN</td>\n",
       "      <td>NaN</td>\n",
       "      <td>2</td>\n",
       "      <td>88</td>\n",
       "      <td>1</td>\n",
       "    </tr>\n",
       "  </tbody>\n",
       "</table>\n",
       "</div>"
      ],
      "text/plain": [
       "   enrollee_id  city  city_development_index gender      relevent_experience  \\\n",
       "0        23798   149                   0.689   Male  Has relevent experience   \n",
       "1        29166    83                   0.923   Male  Has relevent experience   \n",
       "2           46    16                   0.910    NaN  Has relevent experience   \n",
       "3        18527    64                   0.666   Male  Has relevent experience   \n",
       "4        21751   100                   0.887    NaN   No relevent experience   \n",
       "\n",
       "  enrolled_university education_level major_discipline experience  \\\n",
       "0       no_enrollment        Graduate             STEM          3   \n",
       "1       no_enrollment        Graduate             STEM         14   \n",
       "2       no_enrollment        Graduate             STEM          6   \n",
       "3       no_enrollment        Graduate             STEM         14   \n",
       "4       no_enrollment         Masters             STEM          8   \n",
       "\n",
       "  company_size    company_type last_new_job  training_hours  target  \n",
       "0      100-500         Pvt Ltd            1             106       0  \n",
       "1          <10  Funded Startup            1              69       0  \n",
       "2        50-99   Public Sector            2               4       0  \n",
       "3        50-99         Pvt Ltd            1              26       0  \n",
       "4          NaN             NaN            2              88       1  "
      ]
     },
     "execution_count": 9,
     "metadata": {},
     "output_type": "execute_result"
    }
   ],
   "source": [
    "dataset.head()"
   ]
  },
  {
   "cell_type": "code",
   "execution_count": 10,
   "metadata": {},
   "outputs": [
    {
     "data": {
      "image/png": "[encoded data removed]",
      "text/plain": [
       "<Figure size 576x576 with 1 Axes>"
      ]
     },
     "metadata": {},
     "output_type": "display_data"
    }
   ],
   "source": [
    "g = sns.factorplot(x='major_discipline',y='target', data=train, kind='bar', size = 8 , palette = 'muted')"
   ]
  },
  {
   "cell_type": "code",
   "execution_count": 11,
   "metadata": {},
   "outputs": [
    {
     "data": {
      "image/png": "[encoded data removed]",
      "text/plain": [
       "<Figure size 576x576 with 1 Axes>"
      ]
     },
     "metadata": {},
     "output_type": "display_data"
    }
   ],
   "source": [
    "g = sns.factorplot(x='gender',y='target', data=train, kind='bar', size = 8 , palette = 'muted')"
   ]
  },
  {
   "cell_type": "code",
   "execution_count": 12,
   "metadata": {},
   "outputs": [
    {
     "data": {
      "image/png": "[encoded data removed]",
      "text/plain": [
       "<Figure size 576x576 with 1 Axes>"
      ]
     },
     "metadata": {},
     "output_type": "display_data"
    }
   ],
   "source": [
    "g = sns.factorplot(x='relevent_experience',y='target', data=train, kind='bar', size = 8 , palette = 'muted')"
   ]
  },
  {
   "cell_type": "code",
   "execution_count": 13,
   "metadata": {},
   "outputs": [
    {
     "data": {
      "image/png": "[encoded data removed]",
      "text/plain": [
       "<Figure size 576x576 with 1 Axes>"
      ]
     },
     "metadata": {},
     "output_type": "display_data"
    }
   ],
   "source": [
    "g = sns.factorplot(x='enrolled_university',y='target', data=train, kind='bar', size = 8 , palette = 'muted')"
   ]
  },
  {
   "cell_type": "code",
   "execution_count": 14,
   "metadata": {},
   "outputs": [
    {
     "data": {
      "image/png": "[encoded data removed]",
      "text/plain": [
       "<Figure size 576x576 with 1 Axes>"
      ]
     },
     "metadata": {},
     "output_type": "display_data"
    }
   ],
   "source": [
    "g = sns.factorplot(x='education_level',y='target', data=train, kind='bar', size = 8 , palette = 'muted')"
   ]
  },
  {
   "cell_type": "code",
   "execution_count": 15,
   "metadata": {},
   "outputs": [
    {
     "data": {
      "image/png": "[encoded data removed]",
      "text/plain": [
       "<Figure size 576x576 with 1 Axes>"
      ]
     },
     "metadata": {},
     "output_type": "display_data"
    }
   ],
   "source": [
    "g = sns.factorplot(x='experience',y='target', data=train, kind='bar', size = 8 , palette = 'muted')"
   ]
  },
  {
   "cell_type": "code",
   "execution_count": 16,
   "metadata": {},
   "outputs": [
    {
     "data": {
      "image/png": "[encoded data removed]",
      "text/plain": [
       "<Figure size 576x576 with 1 Axes>"
      ]
     },
     "metadata": {},
     "output_type": "display_data"
    }
   ],
   "source": [
    "g = sns.factorplot(x='company_size',y='target', data=train, kind='bar', size = 8 , palette = 'muted')"
   ]
  },
  {
   "cell_type": "code",
   "execution_count": 17,
   "metadata": {},
   "outputs": [
    {
     "data": {
      "image/png": "[encoded data removed]",
      "text/plain": [
       "<Figure size 576x576 with 1 Axes>"
      ]
     },
     "metadata": {},
     "output_type": "display_data"
    }
   ],
   "source": [
    "g = sns.factorplot(x='company_type',y='target', data=train, kind='bar', size = 8 , palette = 'muted')"
   ]
  },
  {
   "cell_type": "code",
   "execution_count": 18,
   "metadata": {},
   "outputs": [
    {
     "data": {
      "image/png": "[encoded data removed]",
      "text/plain": [
       "<Figure size 576x576 with 1 Axes>"
      ]
     },
     "metadata": {},
     "output_type": "display_data"
    }
   ],
   "source": [
    "g = sns.factorplot(x='last_new_job',y='target', data=train, kind='bar', size = 8 , palette = 'muted')"
   ]
  },
  {
   "cell_type": "code",
   "execution_count": 19,
   "metadata": {},
   "outputs": [],
   "source": [
    "dataset['gender'] = dataset['gender'].map({'Male':0, 'Female':1, 'Other' : 2})\n",
    "dataset['relevent_experience'] = dataset['relevent_experience'].map({'Has relevent experience':1, 'No relevent experience':0})\n",
    "dataset['enrolled_university'] = dataset['enrolled_university'].map({'Full time course':2, 'Part time course':1, 'no_enrollment' : 0})\n",
    "dataset['education_level'] = dataset['education_level'].map({'Phd ':0, 'Masters':1, 'Graduate' : 2, 'High School':3, 'Primary School' : 4})\n",
    "dataset['major_discipline'] = dataset['major_discipline'].map({'STEM':0, 'Humanities':1, 'Other' : 3, 'Business Degree':2, 'Arts' : 4, 'No Major': 5})\n",
    "dataset['experience'] = dataset['experience'].map({'1':1, '2':2, '3':3, '4':4, '5':5, '6':6, '7':7, '8':8, '9':9, '10':10, '11':11, '12':12, '13':13, '14':14, '15':15, '16':16, '17':17, '18':18, '19':19, '20':20,'<1':0, '>20':21})\n",
    "dataset['company_size'] = dataset['company_size'].map({'<10':0, '10/49':1, '50-99':2 , '100-500':3, '500-999':4, '1000-4999':5, '5000-9999':6, '10000+':7})\n",
    "dataset['company_type'] = dataset['company_type'].map({'Early Stage Startup':0, 'Funded Startup':1, 'NGO':2,'Other':3, 'Public Sector':4, 'Pvt Ltd':5})                                    \n",
    "dataset['last_new_job'] = dataset['last_new_job'].map({'never':0, '>4':5, '1':1, '2':2, '3':3, '4':4})"
   ]
  },
  {
   "cell_type": "code",
   "execution_count": 20,
   "metadata": {},
   "outputs": [],
   "source": [
    "dataset['new_exp']=dataset['experience'].apply(lambda x: 1 if x<5 else 0 )\n",
    "dataset['magic']=dataset['city_development_index'] * dataset['experience']\n",
    "dataset['magic1']=dataset['city_development_index'] * dataset['training_hours']\n",
    "dataset['magic2']=dataset['city_development_index'] * dataset['city']"
   ]
  },
  {
   "cell_type": "code",
   "execution_count": 21,
   "metadata": {},
   "outputs": [],
   "source": [
    "dataset=dataset.astype(float)"
   ]
  },
  {
   "cell_type": "code",
   "execution_count": 22,
   "metadata": {
    "scrolled": true
   },
   "outputs": [
    {
     "data": {
      "text/html": [
       "<div>\n",
       "<style scoped>\n",
       "    .dataframe tbody tr th:only-of-type {\n",
       "        vertical-align: middle;\n",
       "    }\n",
       "\n",
       "    .dataframe tbody tr th {\n",
       "        vertical-align: top;\n",
       "    }\n",
       "\n",
       "    .dataframe thead th {\n",
       "        text-align: right;\n",
       "    }\n",
       "</style>\n",
       "<table border=\"1\" class=\"dataframe\">\n",
       "  <thead>\n",
       "    <tr style=\"text-align: right;\">\n",
       "      <th></th>\n",
       "      <th>enrollee_id</th>\n",
       "      <th>city</th>\n",
       "      <th>city_development_index</th>\n",
       "      <th>gender</th>\n",
       "      <th>relevent_experience</th>\n",
       "      <th>enrolled_university</th>\n",
       "      <th>education_level</th>\n",
       "      <th>major_discipline</th>\n",
       "      <th>experience</th>\n",
       "      <th>company_size</th>\n",
       "      <th>company_type</th>\n",
       "      <th>last_new_job</th>\n",
       "      <th>training_hours</th>\n",
       "      <th>target</th>\n",
       "      <th>new_exp</th>\n",
       "      <th>magic</th>\n",
       "      <th>magic1</th>\n",
       "      <th>magic2</th>\n",
       "    </tr>\n",
       "  </thead>\n",
       "  <tbody>\n",
       "    <tr>\n",
       "      <th>0</th>\n",
       "      <td>23798.0</td>\n",
       "      <td>149.0</td>\n",
       "      <td>0.689</td>\n",
       "      <td>0.0</td>\n",
       "      <td>1.0</td>\n",
       "      <td>0.0</td>\n",
       "      <td>2.0</td>\n",
       "      <td>0.0</td>\n",
       "      <td>3.0</td>\n",
       "      <td>3.0</td>\n",
       "      <td>5.0</td>\n",
       "      <td>1.0</td>\n",
       "      <td>106.0</td>\n",
       "      <td>0.0</td>\n",
       "      <td>1.0</td>\n",
       "      <td>2.067</td>\n",
       "      <td>73.034</td>\n",
       "      <td>102.661</td>\n",
       "    </tr>\n",
       "    <tr>\n",
       "      <th>1</th>\n",
       "      <td>29166.0</td>\n",
       "      <td>83.0</td>\n",
       "      <td>0.923</td>\n",
       "      <td>0.0</td>\n",
       "      <td>1.0</td>\n",
       "      <td>0.0</td>\n",
       "      <td>2.0</td>\n",
       "      <td>0.0</td>\n",
       "      <td>14.0</td>\n",
       "      <td>0.0</td>\n",
       "      <td>1.0</td>\n",
       "      <td>1.0</td>\n",
       "      <td>69.0</td>\n",
       "      <td>0.0</td>\n",
       "      <td>0.0</td>\n",
       "      <td>12.922</td>\n",
       "      <td>63.687</td>\n",
       "      <td>76.609</td>\n",
       "    </tr>\n",
       "    <tr>\n",
       "      <th>2</th>\n",
       "      <td>46.0</td>\n",
       "      <td>16.0</td>\n",
       "      <td>0.910</td>\n",
       "      <td>NaN</td>\n",
       "      <td>1.0</td>\n",
       "      <td>0.0</td>\n",
       "      <td>2.0</td>\n",
       "      <td>0.0</td>\n",
       "      <td>6.0</td>\n",
       "      <td>2.0</td>\n",
       "      <td>4.0</td>\n",
       "      <td>2.0</td>\n",
       "      <td>4.0</td>\n",
       "      <td>0.0</td>\n",
       "      <td>0.0</td>\n",
       "      <td>5.460</td>\n",
       "      <td>3.640</td>\n",
       "      <td>14.560</td>\n",
       "    </tr>\n",
       "    <tr>\n",
       "      <th>3</th>\n",
       "      <td>18527.0</td>\n",
       "      <td>64.0</td>\n",
       "      <td>0.666</td>\n",
       "      <td>0.0</td>\n",
       "      <td>1.0</td>\n",
       "      <td>0.0</td>\n",
       "      <td>2.0</td>\n",
       "      <td>0.0</td>\n",
       "      <td>14.0</td>\n",
       "      <td>2.0</td>\n",
       "      <td>5.0</td>\n",
       "      <td>1.0</td>\n",
       "      <td>26.0</td>\n",
       "      <td>0.0</td>\n",
       "      <td>0.0</td>\n",
       "      <td>9.324</td>\n",
       "      <td>17.316</td>\n",
       "      <td>42.624</td>\n",
       "    </tr>\n",
       "    <tr>\n",
       "      <th>4</th>\n",
       "      <td>21751.0</td>\n",
       "      <td>100.0</td>\n",
       "      <td>0.887</td>\n",
       "      <td>NaN</td>\n",
       "      <td>0.0</td>\n",
       "      <td>0.0</td>\n",
       "      <td>1.0</td>\n",
       "      <td>0.0</td>\n",
       "      <td>8.0</td>\n",
       "      <td>NaN</td>\n",
       "      <td>NaN</td>\n",
       "      <td>2.0</td>\n",
       "      <td>88.0</td>\n",
       "      <td>1.0</td>\n",
       "      <td>0.0</td>\n",
       "      <td>7.096</td>\n",
       "      <td>78.056</td>\n",
       "      <td>88.700</td>\n",
       "    </tr>\n",
       "  </tbody>\n",
       "</table>\n",
       "</div>"
      ],
      "text/plain": [
       "   enrollee_id   city  city_development_index  gender  relevent_experience  \\\n",
       "0      23798.0  149.0                   0.689     0.0                  1.0   \n",
       "1      29166.0   83.0                   0.923     0.0                  1.0   \n",
       "2         46.0   16.0                   0.910     NaN                  1.0   \n",
       "3      18527.0   64.0                   0.666     0.0                  1.0   \n",
       "4      21751.0  100.0                   0.887     NaN                  0.0   \n",
       "\n",
       "   enrolled_university  education_level  major_discipline  experience  \\\n",
       "0                  0.0              2.0               0.0         3.0   \n",
       "1                  0.0              2.0               0.0        14.0   \n",
       "2                  0.0              2.0               0.0         6.0   \n",
       "3                  0.0              2.0               0.0        14.0   \n",
       "4                  0.0              1.0               0.0         8.0   \n",
       "\n",
       "   company_size  company_type  last_new_job  training_hours  target  new_exp  \\\n",
       "0           3.0           5.0           1.0           106.0     0.0      1.0   \n",
       "1           0.0           1.0           1.0            69.0     0.0      0.0   \n",
       "2           2.0           4.0           2.0             4.0     0.0      0.0   \n",
       "3           2.0           5.0           1.0            26.0     0.0      0.0   \n",
       "4           NaN           NaN           2.0            88.0     1.0      0.0   \n",
       "\n",
       "    magic  magic1   magic2  \n",
       "0   2.067  73.034  102.661  \n",
       "1  12.922  63.687   76.609  \n",
       "2   5.460   3.640   14.560  \n",
       "3   9.324  17.316   42.624  \n",
       "4   7.096  78.056   88.700  "
      ]
     },
     "execution_count": 22,
     "metadata": {},
     "output_type": "execute_result"
    }
   ],
   "source": [
    "dataset.head()"
   ]
  },
  {
   "cell_type": "code",
   "execution_count": 23,
   "metadata": {},
   "outputs": [
    {
     "data": {
      "text/html": [
       "<div>\n",
       "<style scoped>\n",
       "    .dataframe tbody tr th:only-of-type {\n",
       "        vertical-align: middle;\n",
       "    }\n",
       "\n",
       "    .dataframe tbody tr th {\n",
       "        vertical-align: top;\n",
       "    }\n",
       "\n",
       "    .dataframe thead th {\n",
       "        text-align: right;\n",
       "    }\n",
       "</style>\n",
       "<table border=\"1\" class=\"dataframe\">\n",
       "  <thead>\n",
       "    <tr style=\"text-align: right;\">\n",
       "      <th></th>\n",
       "      <th>enrollee_id</th>\n",
       "      <th>city</th>\n",
       "      <th>city_development_index</th>\n",
       "      <th>gender</th>\n",
       "      <th>relevent_experience</th>\n",
       "      <th>enrolled_university</th>\n",
       "      <th>education_level</th>\n",
       "      <th>major_discipline</th>\n",
       "      <th>experience</th>\n",
       "      <th>company_size</th>\n",
       "      <th>company_type</th>\n",
       "      <th>last_new_job</th>\n",
       "      <th>training_hours</th>\n",
       "      <th>target</th>\n",
       "      <th>new_exp</th>\n",
       "      <th>magic</th>\n",
       "      <th>magic1</th>\n",
       "      <th>magic2</th>\n",
       "    </tr>\n",
       "  </thead>\n",
       "  <tbody>\n",
       "    <tr>\n",
       "      <th>count</th>\n",
       "      <td>33380.000000</td>\n",
       "      <td>33380.000000</td>\n",
       "      <td>33380.000000</td>\n",
       "      <td>25894.000000</td>\n",
       "      <td>33380.000000</td>\n",
       "      <td>32759.000000</td>\n",
       "      <td>31647.000000</td>\n",
       "      <td>28149.000000</td>\n",
       "      <td>33277.000000</td>\n",
       "      <td>24550.000000</td>\n",
       "      <td>24011.000000</td>\n",
       "      <td>32709.000000</td>\n",
       "      <td>33380.000000</td>\n",
       "      <td>33380.000000</td>\n",
       "      <td>33380.000000</td>\n",
       "      <td>33277.000000</td>\n",
       "      <td>33380.000000</td>\n",
       "      <td>33380.000000</td>\n",
       "    </tr>\n",
       "    <tr>\n",
       "      <th>mean</th>\n",
       "      <td>16690.500000</td>\n",
       "      <td>83.400240</td>\n",
       "      <td>0.846934</td>\n",
       "      <td>0.107322</td>\n",
       "      <td>0.739904</td>\n",
       "      <td>0.415886</td>\n",
       "      <td>1.910608</td>\n",
       "      <td>0.287008</td>\n",
       "      <td>10.563963</td>\n",
       "      <td>3.248391</td>\n",
       "      <td>4.257757</td>\n",
       "      <td>2.062429</td>\n",
       "      <td>65.565638</td>\n",
       "      <td>0.072648</td>\n",
       "      <td>0.232534</td>\n",
       "      <td>9.172421</td>\n",
       "      <td>55.552154</td>\n",
       "      <td>72.278907</td>\n",
       "    </tr>\n",
       "    <tr>\n",
       "      <th>std</th>\n",
       "      <td>9636.120329</td>\n",
       "      <td>45.363071</td>\n",
       "      <td>0.109972</td>\n",
       "      <td>0.350158</td>\n",
       "      <td>0.438693</td>\n",
       "      <td>0.770788</td>\n",
       "      <td>0.659691</td>\n",
       "      <td>0.921886</td>\n",
       "      <td>6.790277</td>\n",
       "      <td>2.182359</td>\n",
       "      <td>1.499934</td>\n",
       "      <td>1.687005</td>\n",
       "      <td>60.363572</td>\n",
       "      <td>0.259562</td>\n",
       "      <td>0.422454</td>\n",
       "      <td>6.225096</td>\n",
       "      <td>52.031026</td>\n",
       "      <td>40.960285</td>\n",
       "    </tr>\n",
       "    <tr>\n",
       "      <th>min</th>\n",
       "      <td>1.000000</td>\n",
       "      <td>1.000000</td>\n",
       "      <td>0.448000</td>\n",
       "      <td>0.000000</td>\n",
       "      <td>0.000000</td>\n",
       "      <td>0.000000</td>\n",
       "      <td>1.000000</td>\n",
       "      <td>0.000000</td>\n",
       "      <td>0.000000</td>\n",
       "      <td>0.000000</td>\n",
       "      <td>0.000000</td>\n",
       "      <td>0.000000</td>\n",
       "      <td>1.000000</td>\n",
       "      <td>0.000000</td>\n",
       "      <td>0.000000</td>\n",
       "      <td>0.000000</td>\n",
       "      <td>0.666000</td>\n",
       "      <td>0.847000</td>\n",
       "    </tr>\n",
       "    <tr>\n",
       "      <th>25%</th>\n",
       "      <td>8345.750000</td>\n",
       "      <td>36.000000</td>\n",
       "      <td>0.794000</td>\n",
       "      <td>0.000000</td>\n",
       "      <td>0.000000</td>\n",
       "      <td>0.000000</td>\n",
       "      <td>2.000000</td>\n",
       "      <td>0.000000</td>\n",
       "      <td>5.000000</td>\n",
       "      <td>2.000000</td>\n",
       "      <td>5.000000</td>\n",
       "      <td>1.000000</td>\n",
       "      <td>23.000000</td>\n",
       "      <td>0.000000</td>\n",
       "      <td>0.000000</td>\n",
       "      <td>3.704000</td>\n",
       "      <td>19.316000</td>\n",
       "      <td>31.900000</td>\n",
       "    </tr>\n",
       "    <tr>\n",
       "      <th>50%</th>\n",
       "      <td>16690.500000</td>\n",
       "      <td>103.000000</td>\n",
       "      <td>0.910000</td>\n",
       "      <td>0.000000</td>\n",
       "      <td>1.000000</td>\n",
       "      <td>0.000000</td>\n",
       "      <td>2.000000</td>\n",
       "      <td>0.000000</td>\n",
       "      <td>9.000000</td>\n",
       "      <td>3.000000</td>\n",
       "      <td>5.000000</td>\n",
       "      <td>1.000000</td>\n",
       "      <td>47.000000</td>\n",
       "      <td>0.000000</td>\n",
       "      <td>0.000000</td>\n",
       "      <td>7.764000</td>\n",
       "      <td>39.721000</td>\n",
       "      <td>89.725000</td>\n",
       "    </tr>\n",
       "    <tr>\n",
       "      <th>75%</th>\n",
       "      <td>25035.250000</td>\n",
       "      <td>105.000000</td>\n",
       "      <td>0.920000</td>\n",
       "      <td>0.000000</td>\n",
       "      <td>1.000000</td>\n",
       "      <td>0.000000</td>\n",
       "      <td>2.000000</td>\n",
       "      <td>0.000000</td>\n",
       "      <td>16.000000</td>\n",
       "      <td>5.000000</td>\n",
       "      <td>5.000000</td>\n",
       "      <td>3.000000</td>\n",
       "      <td>89.000000</td>\n",
       "      <td>0.000000</td>\n",
       "      <td>0.000000</td>\n",
       "      <td>14.560000</td>\n",
       "      <td>75.131500</td>\n",
       "      <td>94.760000</td>\n",
       "    </tr>\n",
       "    <tr>\n",
       "      <th>max</th>\n",
       "      <td>33380.000000</td>\n",
       "      <td>180.000000</td>\n",
       "      <td>0.949000</td>\n",
       "      <td>2.000000</td>\n",
       "      <td>1.000000</td>\n",
       "      <td>2.000000</td>\n",
       "      <td>4.000000</td>\n",
       "      <td>5.000000</td>\n",
       "      <td>21.000000</td>\n",
       "      <td>7.000000</td>\n",
       "      <td>5.000000</td>\n",
       "      <td>5.000000</td>\n",
       "      <td>336.000000</td>\n",
       "      <td>1.000000</td>\n",
       "      <td>1.000000</td>\n",
       "      <td>19.929000</td>\n",
       "      <td>318.864000</td>\n",
       "      <td>153.807000</td>\n",
       "    </tr>\n",
       "  </tbody>\n",
       "</table>\n",
       "</div>"
      ],
      "text/plain": [
       "        enrollee_id          city  city_development_index        gender  \\\n",
       "count  33380.000000  33380.000000            33380.000000  25894.000000   \n",
       "mean   16690.500000     83.400240                0.846934      0.107322   \n",
       "std     9636.120329     45.363071                0.109972      0.350158   \n",
       "min        1.000000      1.000000                0.448000      0.000000   \n",
       "25%     8345.750000     36.000000                0.794000      0.000000   \n",
       "50%    16690.500000    103.000000                0.910000      0.000000   \n",
       "75%    25035.250000    105.000000                0.920000      0.000000   \n",
       "max    33380.000000    180.000000                0.949000      2.000000   \n",
       "\n",
       "       relevent_experience  enrolled_university  education_level  \\\n",
       "count         33380.000000         32759.000000     31647.000000   \n",
       "mean              0.739904             0.415886         1.910608   \n",
       "std               0.438693             0.770788         0.659691   \n",
       "min               0.000000             0.000000         1.000000   \n",
       "25%               0.000000             0.000000         2.000000   \n",
       "50%               1.000000             0.000000         2.000000   \n",
       "75%               1.000000             0.000000         2.000000   \n",
       "max               1.000000             2.000000         4.000000   \n",
       "\n",
       "       major_discipline    experience  company_size  company_type  \\\n",
       "count      28149.000000  33277.000000  24550.000000  24011.000000   \n",
       "mean           0.287008     10.563963      3.248391      4.257757   \n",
       "std            0.921886      6.790277      2.182359      1.499934   \n",
       "min            0.000000      0.000000      0.000000      0.000000   \n",
       "25%            0.000000      5.000000      2.000000      5.000000   \n",
       "50%            0.000000      9.000000      3.000000      5.000000   \n",
       "75%            0.000000     16.000000      5.000000      5.000000   \n",
       "max            5.000000     21.000000      7.000000      5.000000   \n",
       "\n",
       "       last_new_job  training_hours        target       new_exp         magic  \\\n",
       "count  32709.000000    33380.000000  33380.000000  33380.000000  33277.000000   \n",
       "mean       2.062429       65.565638      0.072648      0.232534      9.172421   \n",
       "std        1.687005       60.363572      0.259562      0.422454      6.225096   \n",
       "min        0.000000        1.000000      0.000000      0.000000      0.000000   \n",
       "25%        1.000000       23.000000      0.000000      0.000000      3.704000   \n",
       "50%        1.000000       47.000000      0.000000      0.000000      7.764000   \n",
       "75%        3.000000       89.000000      0.000000      0.000000     14.560000   \n",
       "max        5.000000      336.000000      1.000000      1.000000     19.929000   \n",
       "\n",
       "             magic1        magic2  \n",
       "count  33380.000000  33380.000000  \n",
       "mean      55.552154     72.278907  \n",
       "std       52.031026     40.960285  \n",
       "min        0.666000      0.847000  \n",
       "25%       19.316000     31.900000  \n",
       "50%       39.721000     89.725000  \n",
       "75%       75.131500     94.760000  \n",
       "max      318.864000    153.807000  "
      ]
     },
     "execution_count": 23,
     "metadata": {},
     "output_type": "execute_result"
    }
   ],
   "source": [
    "dataset.describe()"
   ]
  },
  {
   "cell_type": "code",
   "execution_count": 24,
   "metadata": {},
   "outputs": [
    {
     "data": {
      "text/html": [
       "<div>\n",
       "<style scoped>\n",
       "    .dataframe tbody tr th:only-of-type {\n",
       "        vertical-align: middle;\n",
       "    }\n",
       "\n",
       "    .dataframe tbody tr th {\n",
       "        vertical-align: top;\n",
       "    }\n",
       "\n",
       "    .dataframe thead th {\n",
       "        text-align: right;\n",
       "    }\n",
       "</style>\n",
       "<table border=\"1\" class=\"dataframe\">\n",
       "  <thead>\n",
       "    <tr style=\"text-align: right;\">\n",
       "      <th></th>\n",
       "      <th>enrollee_id</th>\n",
       "      <th>city_development_index</th>\n",
       "      <th>training_hours</th>\n",
       "      <th>target</th>\n",
       "    </tr>\n",
       "  </thead>\n",
       "  <tbody>\n",
       "    <tr>\n",
       "      <th>enrollee_id</th>\n",
       "      <td>1.000000</td>\n",
       "      <td>-0.033466</td>\n",
       "      <td>0.001248</td>\n",
       "      <td>0.033873</td>\n",
       "    </tr>\n",
       "    <tr>\n",
       "      <th>city_development_index</th>\n",
       "      <td>-0.033466</td>\n",
       "      <td>1.000000</td>\n",
       "      <td>-0.006193</td>\n",
       "      <td>-0.135700</td>\n",
       "    </tr>\n",
       "    <tr>\n",
       "      <th>training_hours</th>\n",
       "      <td>0.001248</td>\n",
       "      <td>-0.006193</td>\n",
       "      <td>1.000000</td>\n",
       "      <td>-0.004735</td>\n",
       "    </tr>\n",
       "    <tr>\n",
       "      <th>target</th>\n",
       "      <td>0.033873</td>\n",
       "      <td>-0.135700</td>\n",
       "      <td>-0.004735</td>\n",
       "      <td>1.000000</td>\n",
       "    </tr>\n",
       "  </tbody>\n",
       "</table>\n",
       "</div>"
      ],
      "text/plain": [
       "                        enrollee_id  city_development_index  training_hours  \\\n",
       "enrollee_id                1.000000               -0.033466        0.001248   \n",
       "city_development_index    -0.033466                1.000000       -0.006193   \n",
       "training_hours             0.001248               -0.006193        1.000000   \n",
       "target                     0.033873               -0.135700       -0.004735   \n",
       "\n",
       "                          target  \n",
       "enrollee_id             0.033873  \n",
       "city_development_index -0.135700  \n",
       "training_hours         -0.004735  \n",
       "target                  1.000000  "
      ]
     },
     "execution_count": 24,
     "metadata": {},
     "output_type": "execute_result"
    }
   ],
   "source": [
    "train.corr()"
   ]
  },
  {
   "cell_type": "code",
   "execution_count": 25,
   "metadata": {},
   "outputs": [
    {
     "data": {
      "text/plain": [
       "enrollee_id                  0\n",
       "city                         0\n",
       "city_development_index       0\n",
       "gender                    7486\n",
       "relevent_experience          0\n",
       "enrolled_university        621\n",
       "education_level           1733\n",
       "major_discipline          5231\n",
       "experience                 103\n",
       "company_size              8830\n",
       "company_type              9369\n",
       "last_new_job               671\n",
       "training_hours               0\n",
       "target                       0\n",
       "new_exp                      0\n",
       "magic                      103\n",
       "magic1                       0\n",
       "magic2                       0\n",
       "dtype: int64"
      ]
     },
     "execution_count": 25,
     "metadata": {},
     "output_type": "execute_result"
    }
   ],
   "source": [
    "dataset.isnull().sum()"
   ]
  },
  {
   "cell_type": "code",
   "execution_count": 26,
   "metadata": {},
   "outputs": [],
   "source": [
    "columns = ['city','gender','relevent_experience','enrolled_university']\n",
    "for col in columns:\n",
    "    dummy=pd.get_dummies(dataset[col])\n",
    "    dataset=pd.concat([dataset, dummy], axis=1)\n",
    "dataset=dataset.drop(['city','gender','relevent_experience','enrolled_university', 'experience'], axis=1)\n",
    "dataset['training_hours']=np.log(dataset['training_hours'])\n",
    "dataset.loc[dataset['training_hours'] < 1.3, 'training_hours']=3.8"
   ]
  },
  {
   "cell_type": "code",
   "execution_count": 27,
   "metadata": {},
   "outputs": [
    {
     "data": {
      "text/plain": [
       "enrollee_id                  0\n",
       "city_development_index       0\n",
       "education_level           1733\n",
       "major_discipline          5231\n",
       "company_size              8830\n",
       "company_type              9369\n",
       "last_new_job               671\n",
       "training_hours               0\n",
       "target                       0\n",
       "new_exp                      0\n",
       "magic                      103\n",
       "magic1                       0\n",
       "magic2                       0\n",
       "1.0                          0\n",
       "2.0                          0\n",
       "7.0                          0\n",
       "8.0                          0\n",
       "9.0                          0\n",
       "10.0                         0\n",
       "11.0                         0\n",
       "12.0                         0\n",
       "13.0                         0\n",
       "14.0                         0\n",
       "16.0                         0\n",
       "18.0                         0\n",
       "19.0                         0\n",
       "20.0                         0\n",
       "21.0                         0\n",
       "23.0                         0\n",
       "24.0                         0\n",
       "                          ... \n",
       "143.0                        0\n",
       "144.0                        0\n",
       "145.0                        0\n",
       "146.0                        0\n",
       "149.0                        0\n",
       "150.0                        0\n",
       "152.0                        0\n",
       "155.0                        0\n",
       "157.0                        0\n",
       "158.0                        0\n",
       "159.0                        0\n",
       "160.0                        0\n",
       "162.0                        0\n",
       "165.0                        0\n",
       "166.0                        0\n",
       "167.0                        0\n",
       "171.0                        0\n",
       "173.0                        0\n",
       "175.0                        0\n",
       "176.0                        0\n",
       "179.0                        0\n",
       "180.0                        0\n",
       "0.0                          0\n",
       "1.0                          0\n",
       "2.0                          0\n",
       "0.0                          0\n",
       "1.0                          0\n",
       "0.0                          0\n",
       "1.0                          0\n",
       "2.0                          0\n",
       "Length: 144, dtype: int64"
      ]
     },
     "execution_count": 27,
     "metadata": {},
     "output_type": "execute_result"
    }
   ],
   "source": [
    "dataset.isnull().sum()"
   ]
  },
  {
   "cell_type": "code",
   "execution_count": 28,
   "metadata": {},
   "outputs": [],
   "source": [
    "y=dataset.target.values[:len(train_index)]\n",
    "X=dataset.drop(['target', 'enrollee_id'], axis=1).values[:len(train_index),:]\n",
    "#X_train, X_test, y_train, y_test=train_test_split(X, y, test_size=0.2, random_state=0)"
   ]
  },
  {
   "cell_type": "code",
   "execution_count": 29,
   "metadata": {},
   "outputs": [],
   "source": [
    "from sklearn.metrics import roc_auc_score\n",
    "dtrain = xgb.DMatrix(X, label=y)\n",
    "#dtest = xgb.DMatrix(X_test, label=y_test)"
   ]
  },
  {
   "cell_type": "code",
   "execution_count": 30,
   "metadata": {},
   "outputs": [],
   "source": [
    "param = {  \n",
    "    'objective': 'binary:logistic', \n",
    "    'n_estimators': 1000,\n",
    "    'eval_metric':'auc',\n",
    "    'gamma':4,\n",
    "    'colsample_bytree':0.6,\n",
    "    'n_thread':4,\n",
    "    'silent':0,\n",
    "    'eta':.002,\n",
    "    'lambda': 1.1,\n",
    "    'colsample_bylevel': 0.8,\n",
    "    'max_depth':8,\n",
    "    'alpha': 1.2\n",
    "        }  \n",
    "num_round = 2000\n",
    "bst=xgb.train(param, dtrain, num_round)"
   ]
  },
  {
   "cell_type": "code",
   "execution_count": 31,
   "metadata": {},
   "outputs": [],
   "source": [
    "#print(roc_auc_score(y_train, bst.predict(dtrain)))"
   ]
  },
  {
   "cell_type": "code",
   "execution_count": 32,
   "metadata": {},
   "outputs": [],
   "source": [
    "#print(roc_auc_score(y_test, bst.predict(dtest)))"
   ]
  },
  {
   "cell_type": "code",
   "execution_count": 33,
   "metadata": {},
   "outputs": [
    {
     "data": {
      "image/png": "[encoded data removed]",
      "text/plain": [
       "<Figure size 1440x720 with 1 Axes>"
      ]
     },
     "metadata": {},
     "output_type": "display_data"
    }
   ],
   "source": [
    "from matplotlib import pyplot\n",
    "pyplot.figure(figsize=(20,10))\n",
    "pyplot.bar(bst.get_score().keys(), bst.get_score().values())\n",
    "pyplot.xticks(range(len(bst.get_fscore())))\n",
    "pyplot.show()"
   ]
  },
  {
   "cell_type": "code",
   "execution_count": 34,
   "metadata": {},
   "outputs": [],
   "source": [
    "Xtest=dataset.drop(['enrollee_id', 'target'], axis=1).values[len(train_index):,:]\n",
    "y_sample=dataset['target'].values[len(train_index):]\n",
    "dtest_final=xgb.DMatrix(Xtest, label=y_sample)"
   ]
  },
  {
   "cell_type": "code",
   "execution_count": 35,
   "metadata": {},
   "outputs": [],
   "source": [
    "Submission = pd.DataFrame({ 'enrollee_id': test['enrollee_id'],\n",
    "                            'target':np.ravel(bst.predict(dtest_final))})\n",
    "Submission.to_csv(\"Submission.csv\", index=False)"
   ]
  }
 ],
 "metadata": {
  "kernelspec": {
   "display_name": "Python 3",
   "language": "python",
   "name": "python3"
  },
  "language_info": {
   "codemirror_mode": {
    "name": "ipython",
    "version": 3
   },
   "file_extension": ".py",
   "mimetype": "text/x-python",
   "name": "python",
   "nbconvert_exporter": "python",
   "pygments_lexer": "ipython3",
   "version": "3.5.0"
  }
 },
 "nbformat": 4,
 "nbformat_minor": 2
}
